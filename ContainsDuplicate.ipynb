{
 "cells": [
  {
   "cell_type": "code",
   "execution_count": 19,
   "metadata": {},
   "outputs": [
    {
     "name": "stdout",
     "output_type": "stream",
     "text": [
      "18.346224546432495  seconds\n"
     ]
    }
   ],
   "source": [
    "import time\n",
    "\n",
    "\n",
    "nums = [1,2,3,3,7]\n",
    "\n",
    "nums = list(range(-25000,25000,1))\n",
    "#print(nums)\n",
    "nums.append(-25000)\n",
    "class Solution:\n",
    "    def containsDuplicate(self, nums):\n",
    "        rng = range(1,len(nums))\n",
    "        for i in rng:\n",
    "            if nums[i] in nums[0:i]:\n",
    "                return True\n",
    "        return False      \n",
    "\n"
   ]
  },
  {
   "cell_type": "code",
   "execution_count": 22,
   "metadata": {},
   "outputs": [],
   "source": [
    "class Solution:\n",
    "    def containsDuplicate(self, nums):\n",
    "        hmap = dict()\n",
    "        for num in nums:\n",
    "            hmap[num] = 1\n",
    "            if hmap[num] > 1:\n",
    "                return True\n",
    "        return False   "
   ]
  },
  {
   "cell_type": "code",
   "execution_count": 25,
   "metadata": {},
   "outputs": [],
   "source": [
    "class Solution:\n",
    "    def containsDuplicate(self, nums):\n",
    "        for num in nums:\n",
    "            if nums.count(num) > 1:\n",
    "                return True\n",
    "        return False   "
   ]
  },
  {
   "cell_type": "code",
   "execution_count": 37,
   "metadata": {},
   "outputs": [
    {
     "name": "stdout",
     "output_type": "stream",
     "text": [
      "True\n",
      "0.02186870574951172  seconds\n"
     ]
    }
   ],
   "source": []
  },
  {
   "cell_type": "code",
   "execution_count": 35,
   "metadata": {},
   "outputs": [],
   "source": [
    "class Solution:\n",
    "    def containsDuplicate(self, nums):\n",
    "        return len(nums) != len(set(nums))  \n",
    "\n"
   ]
  },
  {
   "cell_type": "code",
   "execution_count": 38,
   "metadata": {},
   "outputs": [
    {
     "name": "stdout",
     "output_type": "stream",
     "text": [
      "True\n",
      "0.02299785614013672  seconds\n"
     ]
    }
   ],
   "source": [
    "nums = list(range(-250000,250000,1))\n",
    "nums.append(-25000)\n",
    "\n",
    "start_time = time.time()\n",
    "sol = Solution()\n",
    "print(sol.containsDuplicate(nums))\n",
    "print(time.time() - start_time,\" seconds\")"
   ]
  }
 ],
 "metadata": {
  "kernelspec": {
   "display_name": "Python 3",
   "language": "python",
   "name": "python3"
  },
  "language_info": {
   "codemirror_mode": {
    "name": "ipython",
    "version": 3
   },
   "file_extension": ".py",
   "mimetype": "text/x-python",
   "name": "python",
   "nbconvert_exporter": "python",
   "pygments_lexer": "ipython3",
   "version": "3.8.3"
  }
 },
 "nbformat": 4,
 "nbformat_minor": 4
}
